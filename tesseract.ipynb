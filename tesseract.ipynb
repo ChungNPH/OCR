{
 "cells": [
  {
   "cell_type": "code",
   "execution_count": 16,
   "metadata": {},
   "outputs": [],
   "source": [
    "##Loading the necessary packages\n",
    "import numpy as np\n",
    "import cv2\n",
    "from imutils.object_detection import non_max_suppression\n",
    "import pytesseract\n",
    "from matplotlib import pyplot as plt\n",
    "\n",
    "args = {\"image\":\"./images/car_wash.png\", \"east\":\"frozen_east_text_detection.pb\", \"min_confidence\":0.5, \"width\":320, \"height\":320}\n",
    "\n",
    "args['image']=\"./images/car_wash.png\"\n",
    "image = cv2.imread(args['image'])\n",
    "\n",
    "orig = image.copy()\n",
    "(origH, origW) = image.shape[:2]\n",
    " \n",
    "(newW, newH) = (args[\"width\"], args[\"height\"])\n",
    "\n",
    "rW = origW / float(newW)\n",
    "rH = origH / float(newH)\n",
    "\n",
    "image = cv2.resize(image, (newW, newH))\n",
    "(H, W) = image.shape[:2]\n",
    "\n",
    "blob = cv2.dnn.blobFromImage(image, 1.0, (W, H),\n",
    "\t(123.68, 116.78, 103.94), swapRB=True, crop=False)\n",
    "\n",
    "net = cv2.dnn.readNet(args[\"east\"])\n",
    "\n",
    "layerNames = [\n",
    "\t\"feature_fusion/Conv_7/Sigmoid\",\n",
    "\t\"feature_fusion/concat_3\"]\n",
    "\n",
    "net.setInput(blob)\n",
    "(scores, geometry) = net.forward(layerNames)\n",
    "\n",
    "def predictions(prob_score, geo):\n",
    "\t(numR, numC) = prob_score.shape[2:4]\n",
    "\tboxes = []\n",
    "\tconfidence_val = []\n",
    "\n",
    "\tfor y in range(0, numR):\n",
    "\t\tscoresData = prob_score[0, 0, y]\n",
    "\t\tx0 = geo[0, 0, y]\n",
    "\t\tx1 = geo[0, 1, y]\n",
    "\t\tx2 = geo[0, 2, y]\n",
    "\t\tx3 = geo[0, 3, y]\n",
    "\t\tanglesData = geo[0, 4, y]\n",
    "\n",
    "\t\tfor i in range(0, numC):\n",
    "\t\t\tif scoresData[i] < args[\"min_confidence\"]:\n",
    "\t\t\t\tcontinue\n",
    "\n",
    "\t\t\t(offX, offY) = (i * 4.0, y * 4.0)\n",
    "\n",
    "\t\t\tangle = anglesData[i]\n",
    "\t\t\tcos = np.cos(angle)\n",
    "\t\t\tsin = np.sin(angle)\n",
    "\n",
    "\t\t\th = x0[i] + x2[i]\n",
    "\t\t\tw = x1[i] + x3[i]\n",
    "\n",
    "\t\t\tendX = int(offX + (cos * x1[i]) + (sin * x2[i]))\n",
    "\t\t\tendY = int(offY - (sin * x1[i]) + (cos * x2[i]))\n",
    "\t\t\tstartX = int(endX - w)\n",
    "\t\t\tstartY = int(endY - h)\n",
    "\n",
    "\t\t\tboxes.append((startX, startY, endX, endY))\n",
    "\t\t\tconfidence_val.append(scoresData[i])\n",
    "\n",
    "\treturn (boxes, confidence_val)\n",
    "\n",
    "(boxes, confidence_val) = predictions(scores, geometry)\n",
    "boxes = non_max_suppression(np.array(boxes), probs=confidence_val)\n",
    "\n",
    "results = []\n",
    "\n",
    "for (startX, startY, endX, endY) in boxes:\n",
    "\tstartX = int(startX * rW)\n",
    "\tstartY = int(startY * rH)\n",
    "\tendX = int(endX * rW)\n",
    "\tendY = int(endY * rH)\n",
    "\n",
    "\tr = orig[startY:endY, startX:endX]\n",
    "\n",
    "\tconfiguration = (\"-l eng --oem 1 --psm 8\")\n",
    "\ttext = pytesseract.image_to_string(r, config=configuration)\n",
    "\n",
    "\tresults.append(text)"
   ]
  },
  {
   "cell_type": "code",
   "execution_count": 17,
   "metadata": {},
   "outputs": [
    {
     "data": {
      "text/plain": [
       "['ARBOR', 'C\"“AR', 'LN']"
      ]
     },
     "execution_count": 17,
     "metadata": {},
     "output_type": "execute_result"
    }
   ],
   "source": [
    "results"
   ]
  },
  {
   "cell_type": "code",
   "execution_count": 3,
   "metadata": {},
   "outputs": [],
   "source": []
  },
  {
   "cell_type": "code",
   "execution_count": 4,
   "metadata": {},
   "outputs": [],
   "source": []
  },
  {
   "cell_type": "code",
   "execution_count": 5,
   "metadata": {},
   "outputs": [],
   "source": []
  },
  {
   "cell_type": "code",
   "execution_count": 6,
   "metadata": {},
   "outputs": [],
   "source": []
  },
  {
   "cell_type": "code",
   "execution_count": 7,
   "metadata": {},
   "outputs": [],
   "source": []
  },
  {
   "cell_type": "code",
   "execution_count": 8,
   "metadata": {},
   "outputs": [],
   "source": []
  },
  {
   "cell_type": "code",
   "execution_count": null,
   "metadata": {},
   "outputs": [],
   "source": []
  },
  {
   "cell_type": "code",
   "execution_count": null,
   "metadata": {},
   "outputs": [],
   "source": []
  },
  {
   "cell_type": "code",
   "execution_count": null,
   "metadata": {},
   "outputs": [],
   "source": []
  }
 ],
 "metadata": {
  "kernelspec": {
   "display_name": "Python 3",
   "language": "python",
   "name": "python3"
  },
  "language_info": {
   "codemirror_mode": {
    "name": "ipython",
    "version": 3
   },
   "file_extension": ".py",
   "mimetype": "text/x-python",
   "name": "python",
   "nbconvert_exporter": "python",
   "pygments_lexer": "ipython3",
   "version": "3.7.4"
  }
 },
 "nbformat": 4,
 "nbformat_minor": 2
}
